{
 "cells": [
  {
   "cell_type": "code",
   "execution_count": 1,
   "id": "86bee263-d154-4c7b-8e8f-db9bc5b31d61",
   "metadata": {},
   "outputs": [
    {
     "name": "stdout",
     "output_type": "stream",
     "text": [
      "%pylab is deprecated, use %matplotlib inline and import the required libraries.\n",
      "Populating the interactive namespace from numpy and matplotlib\n"
     ]
    }
   ],
   "source": [
    "%pylab inline"
   ]
  },
  {
   "cell_type": "code",
   "execution_count": 42,
   "id": "ddecbb36-c6e1-4828-ba79-17cfab95aab1",
   "metadata": {},
   "outputs": [],
   "source": [
    "import seaborn as sns\n",
    "import pandas as pd"
   ]
  },
  {
   "cell_type": "code",
   "execution_count": 120,
   "id": "2a8050d1-90ca-4709-848a-3604c3f07627",
   "metadata": {},
   "outputs": [],
   "source": [
    "rpc0 = np.load('benchmark/RPC0.npy')\n",
    "rpc1 = np.load('benchmark/RPC1.npy')\n",
    "rpc2 = np.load('benchmark/RPC2.npy')\n",
    "rpc3 = np.load('benchmark/RPC3.npy')\n",
    "lz = np.load('benchmark/LZ.npy')\n",
    "etc = np.load('benchmark/ETC.npy')\n",
    "sfd = np.load('benchmark/SFD.npy')\n",
    "se = np.load('benchmark/SE.npy')\n"
   ]
  },
  {
   "cell_type": "code",
   "execution_count": 158,
   "id": "2a289f26-126f-4a28-898b-6a52ffb3b4f8",
   "metadata": {},
   "outputs": [
    {
     "data": {
      "text/html": [
       "<div>\n",
       "<style scoped>\n",
       "    .dataframe tbody tr th:only-of-type {\n",
       "        vertical-align: middle;\n",
       "    }\n",
       "\n",
       "    .dataframe tbody tr th {\n",
       "        vertical-align: top;\n",
       "    }\n",
       "\n",
       "    .dataframe thead th {\n",
       "        text-align: right;\n",
       "    }\n",
       "</style>\n",
       "<table border=\"1\" class=\"dataframe\">\n",
       "  <thead>\n",
       "    <tr style=\"text-align: right;\">\n",
       "      <th></th>\n",
       "      <th>RPC0</th>\n",
       "      <th>RPC1</th>\n",
       "      <th>RPC2</th>\n",
       "      <th>RPC3</th>\n",
       "      <th>LZ</th>\n",
       "      <th>SFD</th>\n",
       "      <th>SE</th>\n",
       "      <th>ETC</th>\n",
       "    </tr>\n",
       "  </thead>\n",
       "  <tbody>\n",
       "    <tr>\n",
       "      <th>Median (ms)</th>\n",
       "      <td>0.002000</td>\n",
       "      <td>0.008000</td>\n",
       "      <td>0.004000</td>\n",
       "      <td>0.002000</td>\n",
       "      <td>0.068000</td>\n",
       "      <td>0.002000</td>\n",
       "      <td>0.015000</td>\n",
       "      <td>14.742000</td>\n",
       "    </tr>\n",
       "    <tr>\n",
       "      <th>Std (ms)</th>\n",
       "      <td>0.001977</td>\n",
       "      <td>0.001658</td>\n",
       "      <td>0.001195</td>\n",
       "      <td>0.000997</td>\n",
       "      <td>0.009068</td>\n",
       "      <td>0.000758</td>\n",
       "      <td>0.001841</td>\n",
       "      <td>0.409827</td>\n",
       "    </tr>\n",
       "  </tbody>\n",
       "</table>\n",
       "</div>"
      ],
      "text/plain": [
       "                 RPC0      RPC1      RPC2      RPC3        LZ       SFD  \\\n",
       "Median (ms)  0.002000  0.008000  0.004000  0.002000  0.068000  0.002000   \n",
       "Std (ms)     0.001977  0.001658  0.001195  0.000997  0.009068  0.000758   \n",
       "\n",
       "                   SE        ETC  \n",
       "Median (ms)  0.015000  14.742000  \n",
       "Std (ms)     0.001841   0.409827  "
      ]
     },
     "execution_count": 158,
     "metadata": {},
     "output_type": "execute_result"
    }
   ],
   "source": [
    "metrics = [rpc0, rpc1, rpc2, rpc3, lz, sfd, se, etc]\n",
    "medians = [np.median(x) for x in metrics]\n",
    "stds = [np.std(x) for x in metrics]\n",
    "\n",
    "d = pd.DataFrame(vstack((medians,stds)), columns=['RPC0','RPC1','RPC2','RPC3','LZ','SFD','SE','ETC'], index=['Median (ms)','Std (ms)'])\n",
    "d"
   ]
  },
  {
   "cell_type": "code",
   "execution_count": 160,
   "id": "e3bf869d-d932-47ea-af68-9ad8e8e85f6c",
   "metadata": {},
   "outputs": [
    {
     "name": "stderr",
     "output_type": "stream",
     "text": [
      "/tmp/ipykernel_559594/1116672514.py:1: FutureWarning: In future versions `DataFrame.to_latex` is expected to utilise the base implementation of `Styler.to_latex` for formatting and rendering. The arguments signature may therefore change. It is recommended instead to use `DataFrame.style.to_latex` which also contains additional functionality.\n",
      "  d.to_latex()\n"
     ]
    },
    {
     "data": {
      "text/plain": [
       "'\\\\begin{tabular}{lrrrrrrrr}\\n\\\\toprule\\n{} &      RPC0 &      RPC1 &      RPC2 &      RPC3 &        LZ &       SFD &        SE &        ETC \\\\\\\\\\n\\\\midrule\\nMedian (ms) &  0.002000 &  0.008000 &  0.004000 &  0.002000 &  0.068000 &  0.002000 &  0.015000 &  14.742000 \\\\\\\\\\nStd (ms)    &  0.001977 &  0.001658 &  0.001195 &  0.000997 &  0.009068 &  0.000758 &  0.001841 &   0.409827 \\\\\\\\\\n\\\\bottomrule\\n\\\\end{tabular}\\n'"
      ]
     },
     "execution_count": 160,
     "metadata": {},
     "output_type": "execute_result"
    }
   ],
   "source": [
    "d.to_latex()"
   ]
  },
  {
   "cell_type": "code",
   "execution_count": 127,
   "id": "1d31b8f6-c6b3-488d-8895-cc75f9d0fa96",
   "metadata": {},
   "outputs": [],
   "source": [
    "idx=0\n",
    "tests = {}\n",
    "def addData(data,tag):\n",
    "    global idx\n",
    "    for i,v in enumerate(data):\n",
    "        tests[idx] = {\"Test\":tag,\"t\":v}\n",
    "        idx +=1\n",
    "        \n",
    "addData(rpc0[0], 'RPC0')\n",
    "addData(rpc1[0], 'RPC1')\n",
    "addData(rpc2[0], 'RPC2')\n",
    "addData(rpc3[0], 'RPC3')\n",
    "addData(lz[0], 'LZ')\n",
    "# addData(etc[0], 'ETC')\n",
    "addData(sfd[0], 'SFD')\n",
    "addData(se[0], 'SE')\n"
   ]
  },
  {
   "cell_type": "code",
   "execution_count": 163,
   "id": "0e6ae35c-7f37-4dba-9ad2-d3ad8de0a85c",
   "metadata": {},
   "outputs": [],
   "source": [
    "d2 = pd.DataFrame.from_dict(tests, 'index')"
   ]
  },
  {
   "cell_type": "code",
   "execution_count": 164,
   "id": "74d255d6-66d6-4be5-b494-7effd7ff8ad5",
   "metadata": {},
   "outputs": [
    {
     "data": {
      "text/html": [
       "<div>\n",
       "<style scoped>\n",
       "    .dataframe tbody tr th:only-of-type {\n",
       "        vertical-align: middle;\n",
       "    }\n",
       "\n",
       "    .dataframe tbody tr th {\n",
       "        vertical-align: top;\n",
       "    }\n",
       "\n",
       "    .dataframe thead th {\n",
       "        text-align: right;\n",
       "    }\n",
       "</style>\n",
       "<table border=\"1\" class=\"dataframe\">\n",
       "  <thead>\n",
       "    <tr style=\"text-align: right;\">\n",
       "      <th></th>\n",
       "      <th>Test</th>\n",
       "      <th>t</th>\n",
       "    </tr>\n",
       "  </thead>\n",
       "  <tbody>\n",
       "    <tr>\n",
       "      <th>0</th>\n",
       "      <td>RPC0</td>\n",
       "      <td>0.015</td>\n",
       "    </tr>\n",
       "    <tr>\n",
       "      <th>1</th>\n",
       "      <td>RPC0</td>\n",
       "      <td>0.002</td>\n",
       "    </tr>\n",
       "    <tr>\n",
       "      <th>2</th>\n",
       "      <td>RPC0</td>\n",
       "      <td>0.003</td>\n",
       "    </tr>\n",
       "    <tr>\n",
       "      <th>3</th>\n",
       "      <td>RPC0</td>\n",
       "      <td>0.002</td>\n",
       "    </tr>\n",
       "    <tr>\n",
       "      <th>4</th>\n",
       "      <td>RPC0</td>\n",
       "      <td>0.002</td>\n",
       "    </tr>\n",
       "    <tr>\n",
       "      <th>...</th>\n",
       "      <td>...</td>\n",
       "      <td>...</td>\n",
       "    </tr>\n",
       "    <tr>\n",
       "      <th>6999995</th>\n",
       "      <td>SE</td>\n",
       "      <td>0.015</td>\n",
       "    </tr>\n",
       "    <tr>\n",
       "      <th>6999996</th>\n",
       "      <td>SE</td>\n",
       "      <td>0.017</td>\n",
       "    </tr>\n",
       "    <tr>\n",
       "      <th>6999997</th>\n",
       "      <td>SE</td>\n",
       "      <td>0.016</td>\n",
       "    </tr>\n",
       "    <tr>\n",
       "      <th>6999998</th>\n",
       "      <td>SE</td>\n",
       "      <td>0.015</td>\n",
       "    </tr>\n",
       "    <tr>\n",
       "      <th>6999999</th>\n",
       "      <td>SE</td>\n",
       "      <td>0.015</td>\n",
       "    </tr>\n",
       "  </tbody>\n",
       "</table>\n",
       "<p>7000000 rows × 2 columns</p>\n",
       "</div>"
      ],
      "text/plain": [
       "         Test      t\n",
       "0        RPC0  0.015\n",
       "1        RPC0  0.002\n",
       "2        RPC0  0.003\n",
       "3        RPC0  0.002\n",
       "4        RPC0  0.002\n",
       "...       ...    ...\n",
       "6999995    SE  0.015\n",
       "6999996    SE  0.017\n",
       "6999997    SE  0.016\n",
       "6999998    SE  0.015\n",
       "6999999    SE  0.015\n",
       "\n",
       "[7000000 rows x 2 columns]"
      ]
     },
     "execution_count": 164,
     "metadata": {},
     "output_type": "execute_result"
    }
   ],
   "source": [
    "d2"
   ]
  },
  {
   "cell_type": "code",
   "execution_count": null,
   "id": "2b0709c0-7907-48fb-a1c3-89e792981086",
   "metadata": {},
   "outputs": [],
   "source": [
    "g=sns.catplot(data=d2,x='Test',y='t')\n"
   ]
  },
  {
   "cell_type": "code",
   "execution_count": 175,
   "id": "7a34161c-e3f3-48a5-a84a-463c882c8102",
   "metadata": {},
   "outputs": [
    {
     "data": {
      "text/plain": [
       "0.7691905346489567"
      ]
     },
     "execution_count": 175,
     "metadata": {},
     "output_type": "execute_result"
    }
   ],
   "source": [
    "\n",
    "etcRTSpeed = 1000/14.74 * 500 / 44100\n",
    "etcRTSpeed"
   ]
  },
  {
   "cell_type": "code",
   "execution_count": 178,
   "id": "91c5f130-fcbf-43c1-9b16-5846f7ce4c1f",
   "metadata": {},
   "outputs": [
    {
     "data": {
      "text/plain": [
       "5668.934240362812"
      ]
     },
     "execution_count": 178,
     "metadata": {},
     "output_type": "execute_result"
    }
   ],
   "source": [
    "RPCRTSpeed = 1000/0.002 * 500 / 44100\n",
    "RPCRTSpeed"
   ]
  },
  {
   "cell_type": "code",
   "execution_count": 177,
   "id": "a356d722-eb6e-4460-bc1f-3a4248dadc17",
   "metadata": {},
   "outputs": [
    {
     "data": {
      "text/plain": [
       "166.7333600106709"
      ]
     },
     "execution_count": 177,
     "metadata": {},
     "output_type": "execute_result"
    }
   ],
   "source": [
    "RPCRTSpeed = 1000/0.068 * 500 / 44100\n",
    "RPCRTSpeed"
   ]
  },
  {
   "cell_type": "code",
   "execution_count": null,
   "id": "59b618b0-47d0-4fcd-8b49-b2b7792bfdbc",
   "metadata": {},
   "outputs": [],
   "source": []
  }
 ],
 "metadata": {
  "kernelspec": {
   "display_name": "Python 3 (ipykernel)",
   "language": "python",
   "name": "python3"
  },
  "language_info": {
   "codemirror_mode": {
    "name": "ipython",
    "version": 3
   },
   "file_extension": ".py",
   "mimetype": "text/x-python",
   "name": "python",
   "nbconvert_exporter": "python",
   "pygments_lexer": "ipython3",
   "version": "3.9.12"
  }
 },
 "nbformat": 4,
 "nbformat_minor": 5
}
